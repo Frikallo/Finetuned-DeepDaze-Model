{
  "nbformat": 4,
  "nbformat_minor": 0,
  "metadata": {
    "colab": {
      "name": "Shitty DeepDaze Model",
      "provenance": [],
      "collapsed_sections": [],
      "include_colab_link": true
    },
    "kernelspec": {
      "name": "python3",
      "display_name": "Python 3"
    },
    "accelerator": "GPU"
  },
  "cells": [
    {
      "cell_type": "markdown",
      "metadata": {
        "id": "view-in-github",
        "colab_type": "text"
      },
      "source": [
        "<a href=\"https://colab.research.google.com/github/Frikallo/Finetuned-DeepDaze-Model/blob/main/Shitty_DeepDaze_Model.ipynb\" target=\"_parent\"><img src=\"https://colab.research.google.com/assets/colab-badge.svg\" alt=\"Open In Colab\"/></a>"
      ]
    },
    {
      "cell_type": "code",
      "metadata": {
        "id": "o7T3gUXBFVTI"
      },
      "source": [
        "!pip install imgaug==0.2.5"
      ],
      "execution_count": null,
      "outputs": []
    },
    {
      "cell_type": "code",
      "metadata": {
        "id": "YpRu6LTR2LbD"
      },
      "source": [
        "!pip install deep-daze --upgrade"
      ],
      "execution_count": null,
      "outputs": []
    },
    {
      "cell_type": "code",
      "metadata": {
        "id": "iDS1DhFuxDS4"
      },
      "source": [
        "!nvidia-smi"
      ],
      "execution_count": null,
      "outputs": []
    },
    {
      "cell_type": "code",
      "metadata": {
        "id": "_JXxSyqlamsh",
        "cellView": "form"
      },
      "source": [
        "#@title DeepDaze\n",
        "Thinking_About = '' #@param {type:\"string\"}\n",
        "from deep_daze import Imagine\n",
        "from tqdm.notebook import trange\n",
        "from IPython.display import Image, display\n",
        "text = (Thinking_About)\n",
        "\n",
        "imagine = Imagine(\n",
        "    text=text,\n",
        "    save_every=4,\n",
        "    save_progress=True,\n",
        "    image_width=216,\n",
        "    num_layers=42,\n",
        "    batch_size=64,\n",
        "    epochs=5,\n",
        "    iterations=1050,\n",
        "    gradient_accumulate_every=1\n",
        ")\n",
        "\n",
        "for epoch in trange(5, desc = 'epochs'):\n",
        "    for i in trange(1050, desc = 'iteration'):\n",
        "        imagine.train_step(epoch, i)\n",
        "\n",
        "        if i % imagine.save_every != 0:\n",
        "          continue\n",
        "\n",
        "        filename = text.replace(' ', '_')\n",
        "        image = Image(f'./{filename}.jpg')\n",
        "        display(image)\n",
        "\n",
        "\n"
      ],
      "execution_count": null,
      "outputs": []
    }
  ]
}